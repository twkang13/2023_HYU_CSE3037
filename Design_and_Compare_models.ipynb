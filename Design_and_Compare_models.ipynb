{
  "nbformat": 4,
  "nbformat_minor": 0,
  "metadata": {
    "colab": {
      "provenance": [],
      "gpuType": "T4"
    },
    "kernelspec": {
      "name": "python3",
      "display_name": "Python 3"
    },
    "language_info": {
      "name": "python"
    },
    "accelerator": "GPU"
  },
  "cells": [
    {
      "cell_type": "code",
      "source": [
        "import numpy as np\n",
        "import pandas as pd\n",
        "import seaborn as sns\n",
        "import matplotlib.pyplot as plt\n",
        "\n",
        "from sklearn.model_selection import train_test_split"
      ],
      "metadata": {
        "id": "WSvyDa2CWor9"
      },
      "execution_count": 1,
      "outputs": []
    },
    {
      "cell_type": "code",
      "source": [
        "data_origin = pd.read_csv('./auto-mpg.csv',index_col='car name')"
      ],
      "metadata": {
        "id": "eKuXIVMZffqM"
      },
      "execution_count": 2,
      "outputs": []
    },
    {
      "cell_type": "code",
      "source": [
        "# dataset에 bias column 추가\n",
        "data_origin['bias'] = 1"
      ],
      "metadata": {
        "id": "DX5bcQM_i_VZ"
      },
      "execution_count": 3,
      "outputs": []
    },
    {
      "cell_type": "code",
      "source": [
        "# 결측값 제거 및 type casting\n",
        "data_origin = data_origin[data_origin.horsepower != '?']\n",
        "data_origin.horsepower = data_origin.horsepower.astype('float')\n",
        "\n",
        "print(data_origin.head(10))"
      ],
      "metadata": {
        "colab": {
          "base_uri": "https://localhost:8080/"
        },
        "id": "C_LR9ELQjOir",
        "outputId": "13ba852b-a269-4c89-8453-b50bd5ff03ca"
      },
      "execution_count": 4,
      "outputs": [
        {
          "output_type": "stream",
          "name": "stdout",
          "text": [
            "                            mpg  cylinders  displacement  horsepower  weight  \\\n",
            "car name                                                                       \n",
            "chevrolet chevelle malibu  18.0          8         307.0       130.0    3504   \n",
            "buick skylark 320          15.0          8         350.0       165.0    3693   \n",
            "plymouth satellite         18.0          8         318.0       150.0    3436   \n",
            "amc rebel sst              16.0          8         304.0       150.0    3433   \n",
            "ford torino                17.0          8         302.0       140.0    3449   \n",
            "ford galaxie 500           15.0          8         429.0       198.0    4341   \n",
            "chevrolet impala           14.0          8         454.0       220.0    4354   \n",
            "plymouth fury iii          14.0          8         440.0       215.0    4312   \n",
            "pontiac catalina           14.0          8         455.0       225.0    4425   \n",
            "amc ambassador dpl         15.0          8         390.0       190.0    3850   \n",
            "\n",
            "                           acceleration  model year  origin  bias  \n",
            "car name                                                           \n",
            "chevrolet chevelle malibu          12.0          70       1     1  \n",
            "buick skylark 320                  11.5          70       1     1  \n",
            "plymouth satellite                 11.0          70       1     1  \n",
            "amc rebel sst                      12.0          70       1     1  \n",
            "ford torino                        10.5          70       1     1  \n",
            "ford galaxie 500                   10.0          70       1     1  \n",
            "chevrolet impala                    9.0          70       1     1  \n",
            "plymouth fury iii                   8.5          70       1     1  \n",
            "pontiac catalina                   10.0          70       1     1  \n",
            "amc ambassador dpl                  8.5          70       1     1  \n"
          ]
        },
        {
          "output_type": "stream",
          "name": "stderr",
          "text": [
            "<ipython-input-4-e425fc9fdf60>:3: SettingWithCopyWarning: \n",
            "A value is trying to be set on a copy of a slice from a DataFrame.\n",
            "Try using .loc[row_indexer,col_indexer] = value instead\n",
            "\n",
            "See the caveats in the documentation: https://pandas.pydata.org/pandas-docs/stable/user_guide/indexing.html#returning-a-view-versus-a-copy\n",
            "  data_origin.horsepower = data_origin.horsepower.astype('float')\n"
          ]
        }
      ]
    },
    {
      "cell_type": "code",
      "source": [
        "# data scaling\n",
        "def scale(a):\n",
        "    b = (a-a.min())/(a.max()-a.min())\n",
        "    return b\n",
        "\n",
        "data = data_origin.copy()\n",
        "\n",
        "# data별로 scaling 정도 조정 필요\n",
        "data['displacement'] = scale(data_origin['displacement'])\n",
        "data['horsepower'] = scale(data_origin['horsepower'])\n",
        "data['acceleration'] = scale(data_origin['acceleration'])\n",
        "data['weight'] = scale(data_origin['weight'])\n",
        "\n",
        "print(data.head(10))"
      ],
      "metadata": {
        "colab": {
          "base_uri": "https://localhost:8080/"
        },
        "id": "fPoLsORkS5DG",
        "outputId": "ccb468e9-f3ea-46d8-9522-d9a33a4eac9c"
      },
      "execution_count": 5,
      "outputs": [
        {
          "output_type": "stream",
          "name": "stdout",
          "text": [
            "                            mpg  cylinders  displacement  horsepower  \\\n",
            "car name                                                               \n",
            "chevrolet chevelle malibu  18.0          8      0.617571    0.456522   \n",
            "buick skylark 320          15.0          8      0.728682    0.646739   \n",
            "plymouth satellite         18.0          8      0.645995    0.565217   \n",
            "amc rebel sst              16.0          8      0.609819    0.565217   \n",
            "ford torino                17.0          8      0.604651    0.510870   \n",
            "ford galaxie 500           15.0          8      0.932817    0.826087   \n",
            "chevrolet impala           14.0          8      0.997416    0.945652   \n",
            "plymouth fury iii          14.0          8      0.961240    0.918478   \n",
            "pontiac catalina           14.0          8      1.000000    0.972826   \n",
            "amc ambassador dpl         15.0          8      0.832041    0.782609   \n",
            "\n",
            "                             weight  acceleration  model year  origin  bias  \n",
            "car name                                                                     \n",
            "chevrolet chevelle malibu  0.536150      0.238095          70       1     1  \n",
            "buick skylark 320          0.589736      0.208333          70       1     1  \n",
            "plymouth satellite         0.516870      0.178571          70       1     1  \n",
            "amc rebel sst              0.516019      0.238095          70       1     1  \n",
            "ford torino                0.520556      0.148810          70       1     1  \n",
            "ford galaxie 500           0.773462      0.119048          70       1     1  \n",
            "chevrolet impala           0.777148      0.059524          70       1     1  \n",
            "plymouth fury iii          0.765240      0.029762          70       1     1  \n",
            "pontiac catalina           0.797278      0.119048          70       1     1  \n",
            "amc ambassador dpl         0.634250      0.029762          70       1     1  \n"
          ]
        }
      ]
    },
    {
      "cell_type": "code",
      "source": [
        "# dataset을 X와 y로 분할\n",
        "y_t = data['mpg']\n",
        "y_t = np.array(y_t).reshape((len(y_t),1))\n",
        "y_t = pd.DataFrame(y_t, index=data.index)\n",
        "y_t.columns = ['mpg']\n",
        "\n",
        "X_t = data.drop('mpg', axis=1)"
      ],
      "metadata": {
        "id": "W2LpmVbup4iC"
      },
      "execution_count": 6,
      "outputs": []
    },
    {
      "cell_type": "code",
      "source": [
        "# train data와 test data로 분할\n",
        "X_train_t, X_test_t, y_train_t, y_test_t= train_test_split(X_t, y_t, test_size = 0.2, shuffle=False, random_state=1004)\n",
        "\n",
        "print('X_train_t shape:', X_train_t.shape)\n",
        "print('X_test_t shape:', X_test_t.shape)\n",
        "print('y_train_t shape:', y_train_t.shape)\n",
        "print('y_test_t shape:', y_test_t.shape)"
      ],
      "metadata": {
        "colab": {
          "base_uri": "https://localhost:8080/"
        },
        "id": "A6XfbRj-opmh",
        "outputId": "b54bf3f2-2606-4c71-e5df-817b4883015e"
      },
      "execution_count": 7,
      "outputs": [
        {
          "output_type": "stream",
          "name": "stdout",
          "text": [
            "X_train_t shape: (313, 8)\n",
            "X_test_t shape: (79, 8)\n",
            "y_train_t shape: (313, 1)\n",
            "y_test_t shape: (79, 1)\n"
          ]
        }
      ]
    },
    {
      "cell_type": "code",
      "source": [
        "# 식에 맞도록 차원 변화 (NxD에서 DxN으로)\n",
        "X_train = X_train_t.T\n",
        "X_test = X_test_t.T\n",
        "y_train = y_train_t.T\n",
        "y_test = y_test_t.T\n",
        "\n",
        "# dataset의 차원\n",
        "print('X_train shape:', X_train.shape)\n",
        "print('X_test shape:',X_test.shape)\n",
        "print('y_train shape:',y_train.shape)\n",
        "print('y_test shape:',y_test.shape)"
      ],
      "metadata": {
        "colab": {
          "base_uri": "https://localhost:8080/"
        },
        "id": "NHOtaQZ7mQro",
        "outputId": "a2d08a3a-640e-4810-8b90-02f3404d93b3"
      },
      "execution_count": 8,
      "outputs": [
        {
          "output_type": "stream",
          "name": "stdout",
          "text": [
            "X_train shape: (8, 313)\n",
            "X_test shape: (8, 79)\n",
            "y_train shape: (1, 313)\n",
            "y_test shape: (1, 79)\n"
          ]
        }
      ]
    },
    {
      "cell_type": "code",
      "source": [
        "X_train.head(10)"
      ],
      "metadata": {
        "colab": {
          "base_uri": "https://localhost:8080/",
          "height": 428
        },
        "id": "aZTIpnqcu2T0",
        "outputId": "1b173c27-b971-4368-9965-eebae065c519"
      },
      "execution_count": 9,
      "outputs": [
        {
          "output_type": "execute_result",
          "data": {
            "text/plain": [
              "car name      chevrolet chevelle malibu  buick skylark 320  \\\n",
              "cylinders                      8.000000           8.000000   \n",
              "displacement                   0.617571           0.728682   \n",
              "horsepower                     0.456522           0.646739   \n",
              "weight                         0.536150           0.589736   \n",
              "acceleration                   0.238095           0.208333   \n",
              "model year                    70.000000          70.000000   \n",
              "origin                         1.000000           1.000000   \n",
              "bias                           1.000000           1.000000   \n",
              "\n",
              "car name      plymouth satellite  amc rebel sst  ford torino  \\\n",
              "cylinders               8.000000       8.000000     8.000000   \n",
              "displacement            0.645995       0.609819     0.604651   \n",
              "horsepower              0.565217       0.565217     0.510870   \n",
              "weight                  0.516870       0.516019     0.520556   \n",
              "acceleration            0.178571       0.238095     0.148810   \n",
              "model year             70.000000      70.000000    70.000000   \n",
              "origin                  1.000000       1.000000     1.000000   \n",
              "bias                    1.000000       1.000000     1.000000   \n",
              "\n",
              "car name      ford galaxie 500  chevrolet impala  plymouth fury iii  \\\n",
              "cylinders             8.000000          8.000000           8.000000   \n",
              "displacement          0.932817          0.997416           0.961240   \n",
              "horsepower            0.826087          0.945652           0.918478   \n",
              "weight                0.773462          0.777148           0.765240   \n",
              "acceleration          0.119048          0.059524           0.029762   \n",
              "model year           70.000000         70.000000          70.000000   \n",
              "origin                1.000000          1.000000           1.000000   \n",
              "bias                  1.000000          1.000000           1.000000   \n",
              "\n",
              "car name      pontiac catalina  amc ambassador dpl  ...  \\\n",
              "cylinders             8.000000            8.000000  ...   \n",
              "displacement          1.000000            0.832041  ...   \n",
              "horsepower            0.972826            0.782609  ...   \n",
              "weight                0.797278            0.634250  ...   \n",
              "acceleration          0.119048            0.029762  ...   \n",
              "model year           70.000000           70.000000  ...   \n",
              "origin                1.000000            1.000000  ...   \n",
              "bias                  1.000000            1.000000  ...   \n",
              "\n",
              "car name      buick skylark limited  chevrolet citation  \\\n",
              "cylinders                  4.000000            6.000000   \n",
              "displacement               0.214470            0.271318   \n",
              "horsepower                 0.239130            0.375000   \n",
              "weight                     0.299688            0.278424   \n",
              "acceleration               0.476190            0.196429   \n",
              "model year                79.000000           79.000000   \n",
              "origin                     1.000000            1.000000   \n",
              "bias                       1.000000            1.000000   \n",
              "\n",
              "car name      oldsmobile omega brougham  pontiac phoenix  vw rabbit  \\\n",
              "cylinders                      6.000000         4.000000   4.000000   \n",
              "displacement                   0.271318         0.214470   0.077519   \n",
              "horsepower                     0.375000         0.239130   0.163043   \n",
              "weight                         0.308194         0.267366   0.150553   \n",
              "acceleration                   0.291667         0.309524   0.398810   \n",
              "model year                    79.000000        79.000000  80.000000   \n",
              "origin                         1.000000         1.000000   2.000000   \n",
              "bias                           1.000000         1.000000   1.000000   \n",
              "\n",
              "car name      toyota corolla tercel  chevrolet chevette  datsun 310  \\\n",
              "cylinders                  4.000000            4.000000    4.000000   \n",
              "displacement               0.054264            0.077519    0.046512   \n",
              "horsepower                 0.076087            0.130435    0.103261   \n",
              "weight                     0.100652            0.143748    0.115112   \n",
              "acceleration               0.642857            0.446429    0.500000   \n",
              "model year                80.000000           80.000000   80.000000   \n",
              "origin                     3.000000            1.000000    3.000000   \n",
              "bias                       1.000000            1.000000    1.000000   \n",
              "\n",
              "car name      chevrolet citation  ford fairmont  \n",
              "cylinders               4.000000       4.000000  \n",
              "displacement            0.214470       0.186047  \n",
              "horsepower              0.239130       0.228261  \n",
              "weight                  0.301956       0.356394  \n",
              "acceleration            0.505952       0.601190  \n",
              "model year             80.000000      80.000000  \n",
              "origin                  1.000000       1.000000  \n",
              "bias                    1.000000       1.000000  \n",
              "\n",
              "[8 rows x 313 columns]"
            ],
            "text/html": [
              "\n",
              "  <div id=\"df-a428baa9-2686-4ba4-ad16-baec598b4a37\">\n",
              "    <div class=\"colab-df-container\">\n",
              "      <div>\n",
              "<style scoped>\n",
              "    .dataframe tbody tr th:only-of-type {\n",
              "        vertical-align: middle;\n",
              "    }\n",
              "\n",
              "    .dataframe tbody tr th {\n",
              "        vertical-align: top;\n",
              "    }\n",
              "\n",
              "    .dataframe thead th {\n",
              "        text-align: right;\n",
              "    }\n",
              "</style>\n",
              "<table border=\"1\" class=\"dataframe\">\n",
              "  <thead>\n",
              "    <tr style=\"text-align: right;\">\n",
              "      <th>car name</th>\n",
              "      <th>chevrolet chevelle malibu</th>\n",
              "      <th>buick skylark 320</th>\n",
              "      <th>plymouth satellite</th>\n",
              "      <th>amc rebel sst</th>\n",
              "      <th>ford torino</th>\n",
              "      <th>ford galaxie 500</th>\n",
              "      <th>chevrolet impala</th>\n",
              "      <th>plymouth fury iii</th>\n",
              "      <th>pontiac catalina</th>\n",
              "      <th>amc ambassador dpl</th>\n",
              "      <th>...</th>\n",
              "      <th>buick skylark limited</th>\n",
              "      <th>chevrolet citation</th>\n",
              "      <th>oldsmobile omega brougham</th>\n",
              "      <th>pontiac phoenix</th>\n",
              "      <th>vw rabbit</th>\n",
              "      <th>toyota corolla tercel</th>\n",
              "      <th>chevrolet chevette</th>\n",
              "      <th>datsun 310</th>\n",
              "      <th>chevrolet citation</th>\n",
              "      <th>ford fairmont</th>\n",
              "    </tr>\n",
              "  </thead>\n",
              "  <tbody>\n",
              "    <tr>\n",
              "      <th>cylinders</th>\n",
              "      <td>8.000000</td>\n",
              "      <td>8.000000</td>\n",
              "      <td>8.000000</td>\n",
              "      <td>8.000000</td>\n",
              "      <td>8.000000</td>\n",
              "      <td>8.000000</td>\n",
              "      <td>8.000000</td>\n",
              "      <td>8.000000</td>\n",
              "      <td>8.000000</td>\n",
              "      <td>8.000000</td>\n",
              "      <td>...</td>\n",
              "      <td>4.000000</td>\n",
              "      <td>6.000000</td>\n",
              "      <td>6.000000</td>\n",
              "      <td>4.000000</td>\n",
              "      <td>4.000000</td>\n",
              "      <td>4.000000</td>\n",
              "      <td>4.000000</td>\n",
              "      <td>4.000000</td>\n",
              "      <td>4.000000</td>\n",
              "      <td>4.000000</td>\n",
              "    </tr>\n",
              "    <tr>\n",
              "      <th>displacement</th>\n",
              "      <td>0.617571</td>\n",
              "      <td>0.728682</td>\n",
              "      <td>0.645995</td>\n",
              "      <td>0.609819</td>\n",
              "      <td>0.604651</td>\n",
              "      <td>0.932817</td>\n",
              "      <td>0.997416</td>\n",
              "      <td>0.961240</td>\n",
              "      <td>1.000000</td>\n",
              "      <td>0.832041</td>\n",
              "      <td>...</td>\n",
              "      <td>0.214470</td>\n",
              "      <td>0.271318</td>\n",
              "      <td>0.271318</td>\n",
              "      <td>0.214470</td>\n",
              "      <td>0.077519</td>\n",
              "      <td>0.054264</td>\n",
              "      <td>0.077519</td>\n",
              "      <td>0.046512</td>\n",
              "      <td>0.214470</td>\n",
              "      <td>0.186047</td>\n",
              "    </tr>\n",
              "    <tr>\n",
              "      <th>horsepower</th>\n",
              "      <td>0.456522</td>\n",
              "      <td>0.646739</td>\n",
              "      <td>0.565217</td>\n",
              "      <td>0.565217</td>\n",
              "      <td>0.510870</td>\n",
              "      <td>0.826087</td>\n",
              "      <td>0.945652</td>\n",
              "      <td>0.918478</td>\n",
              "      <td>0.972826</td>\n",
              "      <td>0.782609</td>\n",
              "      <td>...</td>\n",
              "      <td>0.239130</td>\n",
              "      <td>0.375000</td>\n",
              "      <td>0.375000</td>\n",
              "      <td>0.239130</td>\n",
              "      <td>0.163043</td>\n",
              "      <td>0.076087</td>\n",
              "      <td>0.130435</td>\n",
              "      <td>0.103261</td>\n",
              "      <td>0.239130</td>\n",
              "      <td>0.228261</td>\n",
              "    </tr>\n",
              "    <tr>\n",
              "      <th>weight</th>\n",
              "      <td>0.536150</td>\n",
              "      <td>0.589736</td>\n",
              "      <td>0.516870</td>\n",
              "      <td>0.516019</td>\n",
              "      <td>0.520556</td>\n",
              "      <td>0.773462</td>\n",
              "      <td>0.777148</td>\n",
              "      <td>0.765240</td>\n",
              "      <td>0.797278</td>\n",
              "      <td>0.634250</td>\n",
              "      <td>...</td>\n",
              "      <td>0.299688</td>\n",
              "      <td>0.278424</td>\n",
              "      <td>0.308194</td>\n",
              "      <td>0.267366</td>\n",
              "      <td>0.150553</td>\n",
              "      <td>0.100652</td>\n",
              "      <td>0.143748</td>\n",
              "      <td>0.115112</td>\n",
              "      <td>0.301956</td>\n",
              "      <td>0.356394</td>\n",
              "    </tr>\n",
              "    <tr>\n",
              "      <th>acceleration</th>\n",
              "      <td>0.238095</td>\n",
              "      <td>0.208333</td>\n",
              "      <td>0.178571</td>\n",
              "      <td>0.238095</td>\n",
              "      <td>0.148810</td>\n",
              "      <td>0.119048</td>\n",
              "      <td>0.059524</td>\n",
              "      <td>0.029762</td>\n",
              "      <td>0.119048</td>\n",
              "      <td>0.029762</td>\n",
              "      <td>...</td>\n",
              "      <td>0.476190</td>\n",
              "      <td>0.196429</td>\n",
              "      <td>0.291667</td>\n",
              "      <td>0.309524</td>\n",
              "      <td>0.398810</td>\n",
              "      <td>0.642857</td>\n",
              "      <td>0.446429</td>\n",
              "      <td>0.500000</td>\n",
              "      <td>0.505952</td>\n",
              "      <td>0.601190</td>\n",
              "    </tr>\n",
              "    <tr>\n",
              "      <th>model year</th>\n",
              "      <td>70.000000</td>\n",
              "      <td>70.000000</td>\n",
              "      <td>70.000000</td>\n",
              "      <td>70.000000</td>\n",
              "      <td>70.000000</td>\n",
              "      <td>70.000000</td>\n",
              "      <td>70.000000</td>\n",
              "      <td>70.000000</td>\n",
              "      <td>70.000000</td>\n",
              "      <td>70.000000</td>\n",
              "      <td>...</td>\n",
              "      <td>79.000000</td>\n",
              "      <td>79.000000</td>\n",
              "      <td>79.000000</td>\n",
              "      <td>79.000000</td>\n",
              "      <td>80.000000</td>\n",
              "      <td>80.000000</td>\n",
              "      <td>80.000000</td>\n",
              "      <td>80.000000</td>\n",
              "      <td>80.000000</td>\n",
              "      <td>80.000000</td>\n",
              "    </tr>\n",
              "    <tr>\n",
              "      <th>origin</th>\n",
              "      <td>1.000000</td>\n",
              "      <td>1.000000</td>\n",
              "      <td>1.000000</td>\n",
              "      <td>1.000000</td>\n",
              "      <td>1.000000</td>\n",
              "      <td>1.000000</td>\n",
              "      <td>1.000000</td>\n",
              "      <td>1.000000</td>\n",
              "      <td>1.000000</td>\n",
              "      <td>1.000000</td>\n",
              "      <td>...</td>\n",
              "      <td>1.000000</td>\n",
              "      <td>1.000000</td>\n",
              "      <td>1.000000</td>\n",
              "      <td>1.000000</td>\n",
              "      <td>2.000000</td>\n",
              "      <td>3.000000</td>\n",
              "      <td>1.000000</td>\n",
              "      <td>3.000000</td>\n",
              "      <td>1.000000</td>\n",
              "      <td>1.000000</td>\n",
              "    </tr>\n",
              "    <tr>\n",
              "      <th>bias</th>\n",
              "      <td>1.000000</td>\n",
              "      <td>1.000000</td>\n",
              "      <td>1.000000</td>\n",
              "      <td>1.000000</td>\n",
              "      <td>1.000000</td>\n",
              "      <td>1.000000</td>\n",
              "      <td>1.000000</td>\n",
              "      <td>1.000000</td>\n",
              "      <td>1.000000</td>\n",
              "      <td>1.000000</td>\n",
              "      <td>...</td>\n",
              "      <td>1.000000</td>\n",
              "      <td>1.000000</td>\n",
              "      <td>1.000000</td>\n",
              "      <td>1.000000</td>\n",
              "      <td>1.000000</td>\n",
              "      <td>1.000000</td>\n",
              "      <td>1.000000</td>\n",
              "      <td>1.000000</td>\n",
              "      <td>1.000000</td>\n",
              "      <td>1.000000</td>\n",
              "    </tr>\n",
              "  </tbody>\n",
              "</table>\n",
              "<p>8 rows × 313 columns</p>\n",
              "</div>\n",
              "      <button class=\"colab-df-convert\" onclick=\"convertToInteractive('df-a428baa9-2686-4ba4-ad16-baec598b4a37')\"\n",
              "              title=\"Convert this dataframe to an interactive table.\"\n",
              "              style=\"display:none;\">\n",
              "        \n",
              "  <svg xmlns=\"http://www.w3.org/2000/svg\" height=\"24px\"viewBox=\"0 0 24 24\"\n",
              "       width=\"24px\">\n",
              "    <path d=\"M0 0h24v24H0V0z\" fill=\"none\"/>\n",
              "    <path d=\"M18.56 5.44l.94 2.06.94-2.06 2.06-.94-2.06-.94-.94-2.06-.94 2.06-2.06.94zm-11 1L8.5 8.5l.94-2.06 2.06-.94-2.06-.94L8.5 2.5l-.94 2.06-2.06.94zm10 10l.94 2.06.94-2.06 2.06-.94-2.06-.94-.94-2.06-.94 2.06-2.06.94z\"/><path d=\"M17.41 7.96l-1.37-1.37c-.4-.4-.92-.59-1.43-.59-.52 0-1.04.2-1.43.59L10.3 9.45l-7.72 7.72c-.78.78-.78 2.05 0 2.83L4 21.41c.39.39.9.59 1.41.59.51 0 1.02-.2 1.41-.59l7.78-7.78 2.81-2.81c.8-.78.8-2.07 0-2.86zM5.41 20L4 18.59l7.72-7.72 1.47 1.35L5.41 20z\"/>\n",
              "  </svg>\n",
              "      </button>\n",
              "      \n",
              "  <style>\n",
              "    .colab-df-container {\n",
              "      display:flex;\n",
              "      flex-wrap:wrap;\n",
              "      gap: 12px;\n",
              "    }\n",
              "\n",
              "    .colab-df-convert {\n",
              "      background-color: #E8F0FE;\n",
              "      border: none;\n",
              "      border-radius: 50%;\n",
              "      cursor: pointer;\n",
              "      display: none;\n",
              "      fill: #1967D2;\n",
              "      height: 32px;\n",
              "      padding: 0 0 0 0;\n",
              "      width: 32px;\n",
              "    }\n",
              "\n",
              "    .colab-df-convert:hover {\n",
              "      background-color: #E2EBFA;\n",
              "      box-shadow: 0px 1px 2px rgba(60, 64, 67, 0.3), 0px 1px 3px 1px rgba(60, 64, 67, 0.15);\n",
              "      fill: #174EA6;\n",
              "    }\n",
              "\n",
              "    [theme=dark] .colab-df-convert {\n",
              "      background-color: #3B4455;\n",
              "      fill: #D2E3FC;\n",
              "    }\n",
              "\n",
              "    [theme=dark] .colab-df-convert:hover {\n",
              "      background-color: #434B5C;\n",
              "      box-shadow: 0px 1px 3px 1px rgba(0, 0, 0, 0.15);\n",
              "      filter: drop-shadow(0px 1px 2px rgba(0, 0, 0, 0.3));\n",
              "      fill: #FFFFFF;\n",
              "    }\n",
              "  </style>\n",
              "\n",
              "      <script>\n",
              "        const buttonEl =\n",
              "          document.querySelector('#df-a428baa9-2686-4ba4-ad16-baec598b4a37 button.colab-df-convert');\n",
              "        buttonEl.style.display =\n",
              "          google.colab.kernel.accessAllowed ? 'block' : 'none';\n",
              "\n",
              "        async function convertToInteractive(key) {\n",
              "          const element = document.querySelector('#df-a428baa9-2686-4ba4-ad16-baec598b4a37');\n",
              "          const dataTable =\n",
              "            await google.colab.kernel.invokeFunction('convertToInteractive',\n",
              "                                                     [key], {});\n",
              "          if (!dataTable) return;\n",
              "\n",
              "          const docLinkHtml = 'Like what you see? Visit the ' +\n",
              "            '<a target=\"_blank\" href=https://colab.research.google.com/notebooks/data_table.ipynb>data table notebook</a>'\n",
              "            + ' to learn more about interactive tables.';\n",
              "          element.innerHTML = '';\n",
              "          dataTable['output_type'] = 'display_data';\n",
              "          await google.colab.output.renderOutput(dataTable, element);\n",
              "          const docLink = document.createElement('div');\n",
              "          docLink.innerHTML = docLinkHtml;\n",
              "          element.appendChild(docLink);\n",
              "        }\n",
              "      </script>\n",
              "    </div>\n",
              "  </div>\n",
              "  "
            ]
          },
          "metadata": {},
          "execution_count": 9
        }
      ]
    },
    {
      "cell_type": "code",
      "source": [
        "# 성능 테스트 위해 MSE 정의\n",
        "def mean_squared_error(y_true, prediction):\n",
        "  mse = np.mean((y_true - prediction) ** 2)\n",
        "  return np.mean(mse)"
      ],
      "metadata": {
        "id": "ehHLo7DvthDw"
      },
      "execution_count": 10,
      "outputs": []
    },
    {
      "cell_type": "code",
      "source": [
        "# 성능 테스트 위해 실제 데이터와 예측 데이터의 위치 보여주는 그래프 그리는 함수 작성\n",
        "def prediction_solution(y_true, prediction, X):\n",
        "  N = X.shape[1]\n",
        "  x = np.arange(N)\n",
        "\n",
        "  x = np.reshape(x, (1,79))\n",
        "  y_true = np.reshape(y_true, (1,79))\n",
        "  prediction = np.reshape(prediction, (1,79))\n",
        "  \n",
        "  # x축에 실제 데이터, y축에 예측 데이터\n",
        "  plt.plot(y_true, prediction, 'bo')\n",
        "\n",
        "  plt.xlabel('y_test')\n",
        "  plt.ylabel('prediction')\n",
        "\n",
        "  plt.axis([15,50,15,50])\n",
        "\n",
        "  plt.legend()\n",
        "  plt.show()"
      ],
      "metadata": {
        "id": "j0l-myuIZYOs"
      },
      "execution_count": 11,
      "outputs": []
    },
    {
      "cell_type": "code",
      "source": [
        "# MSE, 성능 테스트 위한 비교군\n",
        "class MSE:\n",
        "  # Learning rate, iteration, parameter 설정\n",
        "  def __init__(self,learning_rate=0.00001,iter=100000):\n",
        "    self.learning_rate = learning_rate\n",
        "    self.iter = iter\n",
        "    self.w = None\n",
        "\n",
        "  # Learning with Gradient Descent\n",
        "  def fit(self, X, y):\n",
        "    # parameter 초기화\n",
        "    rows, columns = X.shape\n",
        "    self.w = np.zeros(rows)\n",
        "    self.w = np.array(self.w).reshape((len(self.w),1))\n",
        "      \n",
        "    # Data size\n",
        "    N = len(X)\n",
        "\n",
        "    # Closed-form Solution\n",
        "    p1 = np.dot(X, X.T)\n",
        "    pw = np.dot(np.linalg.inv(p1), X)\n",
        "    self.w = np.dot(pw, y.T)\n",
        "\n",
        "  def predict(self, x):\n",
        "    y_predict = np.dot(self.w.T, x)\n",
        "    return y_predict.round(1)"
      ],
      "metadata": {
        "id": "TcF2BHjF7UWk"
      },
      "execution_count": 13,
      "outputs": []
    },
    {
      "cell_type": "code",
      "source": [
        "# MSLE\n",
        "class MSLE:\n",
        "  # Learning rate, iteration, parameter 설정\n",
        "  def __init__(self,learning_rate=0.00001,iter=100000):\n",
        "    self.learning_rate = learning_rate\n",
        "    self.iter = iter\n",
        "    self.w = None\n",
        "\n",
        "  # Learning with Gradient Descent\n",
        "  def fit(self, X, y):\n",
        "    # parameter 초기화\n",
        "    rows, columns = X.shape\n",
        "    self.w = np.zeros(rows)\n",
        "    self.w = np.array(self.w).reshape((len(self.w),1))\n",
        "      \n",
        "    # Data size\n",
        "    N = len(X)\n",
        "\n",
        "    for i in range(self.iter):\n",
        "      y_hat = np.dot(self.w.T, X)\n",
        "\n",
        "      # Loss function의 미분값 계산\n",
        "      pl = np.log(y+1) - np.log(y_hat+1)\n",
        "      dpl = X/(y_hat+1)\n",
        "      dL = -1 * (2/N) * np.dot(dpl, pl.T)\n",
        "\n",
        "      # parameter update\n",
        "      self.w -= (self.learning_rate * dL)\n",
        "\n",
        "  def predict(self, x):\n",
        "    y_predict = np.dot(self.w.T, x)\n",
        "    return y_predict.round(1)"
      ],
      "metadata": {
        "id": "u5pHpr5PxVJ8"
      },
      "execution_count": 14,
      "outputs": []
    },
    {
      "cell_type": "code",
      "source": [
        "# MLE\n",
        "class MLE:\n",
        "  # Learning rate, iteration, parameter 설정\n",
        "  def __init__(self,learning_rate=0.000001,iter=100000):\n",
        "    self.learning_rate = learning_rate\n",
        "    self.iter = iter\n",
        "    self.w = None\n",
        "    self.var = 0\n",
        "\n",
        "  # Learning with Gradient Descent\n",
        "  def fit(self, X, y, var):\n",
        "    # parameter 초기화\n",
        "    rows, columns = X.shape\n",
        "    self.w = np.zeros(rows)\n",
        "    self.w = np.array(self.w).reshape((len(self.w),1))\n",
        "\n",
        "    # variance 초기화\n",
        "    self.var = var\n",
        "      \n",
        "    # Data size\n",
        "    N = len(X)\n",
        "\n",
        "    for i in range(self.iter):\n",
        "      y_hat = np.dot(self.w.T, X)\n",
        "\n",
        "      # Loss function의 미분값 계산\n",
        "      pl = y - np.dot(self.w.T, X)\n",
        "      dL = np.dot(X, pl.T) / var\n",
        "\n",
        "      # parameter update\n",
        "      self.w += (self.learning_rate * dL)\n",
        "\n",
        "  def predict(self, x):\n",
        "    y_predict = np.dot(self.w.T, x)\n",
        "    return y_predict.round(1)"
      ],
      "metadata": {
        "id": "PG2-3lMOxAFO"
      },
      "execution_count": 15,
      "outputs": []
    },
    {
      "cell_type": "code",
      "source": [
        "#MAP\n",
        "class MAP:\n",
        "  # Learning rate, iteration, parameter, variance 설정\n",
        "  def __init__(self, learning_rate=0.000001, iter=100000):\n",
        "    self.learning_rate = learning_rate\n",
        "    self.iter = iter\n",
        "    self.w = None\n",
        "    self.var_w = None\n",
        "    self.var_model = None\n",
        "\n",
        "  def fit(self, X, y, var_model, var_w):\n",
        "    # parameter 초기화\n",
        "    rows, columns = X.shape\n",
        "    self.w = np.zeros(rows)\n",
        "    self.w = np.array(self.w).reshape((len(self.w),1))\n",
        "\n",
        "    # variance 초기화\n",
        "    self.var_model = var_model\n",
        "    self.var_w = var_w\n",
        "\n",
        "    # Data size\n",
        "    N = len(X)\n",
        "\n",
        "    for i in range(self.iter):\n",
        "      y_hat = np.dot(self.w.T, X)\n",
        "\n",
        "      # Loss function의 미분값 계산\n",
        "      pl = y - np.dot(self.w.T, X)\n",
        "      dM = (np.dot(X, pl.T) / self.var_model) - (self.w / self.var_w)\n",
        "\n",
        "      # parameter update\n",
        "      self.w += (self.learning_rate * dM)\n",
        "\n",
        "  def predict(self, x):\n",
        "    y_predict = np.dot(self.w.T, x)\n",
        "    return y_predict.round(1)"
      ],
      "metadata": {
        "id": "jfgpWJH_xB42"
      },
      "execution_count": 16,
      "outputs": []
    },
    {
      "cell_type": "code",
      "source": [
        "mse = MSE()\n",
        "mse.fit(X_train, y_train)\n",
        "prediction = mse.predict(X_test)\n",
        "\n",
        "print(y_test.values)\n",
        "print()\n",
        "print(prediction)\n",
        "print()\n",
        "\n",
        "mse = mean_squared_error(y_test, prediction)\n",
        "print(\"MSE: {}\".format(mse))\n",
        "\n",
        "prediction_solution(y_test, prediction, X_test)"
      ],
      "metadata": {
        "colab": {
          "base_uri": "https://localhost:8080/",
          "height": 787
        },
        "id": "o8wLAUoO77sT",
        "outputId": "feb724b7-4061-4d6c-9853-a23618f1dff6"
      },
      "execution_count": 17,
      "outputs": [
        {
          "output_type": "stream",
          "name": "stderr",
          "text": [
            "/usr/local/lib/python3.10/dist-packages/numpy/core/fromnumeric.py:3472: FutureWarning: In a future version, DataFrame.mean(axis=None) will return a scalar mean over the entire DataFrame. To retain the old behavior, use 'frame.mean(axis=0)' or just 'frame.mean()'\n",
            "  return mean(axis=axis, dtype=dtype, out=out, **kwargs)\n",
            "WARNING:matplotlib.legend:No artists with labels found to put in legend.  Note that artists whose label start with an underscore are ignored when legend() is called with no argument.\n"
          ]
        },
        {
          "output_type": "stream",
          "name": "stdout",
          "text": [
            "[[24.3 19.1 34.3 29.8 31.3 37.  32.2 46.6 27.9 40.8 44.3 43.4 36.4 30.\n",
            "  44.6 33.8 29.8 32.7 23.7 35.  32.4 27.2 26.6 25.8 23.5 30.  39.1 39.\n",
            "  35.1 32.3 37.  37.7 34.1 34.7 34.4 29.9 33.  33.7 32.4 32.9 31.6 28.1\n",
            "  30.7 25.4 24.2 22.4 26.6 20.2 17.6 28.  27.  34.  31.  29.  27.  24.\n",
            "  36.  37.  31.  38.  36.  36.  36.  34.  38.  32.  38.  25.  38.  26.\n",
            "  22.  32.  36.  27.  27.  44.  32.  28.  31. ]]\n",
            "\n",
            "[[24.7 22.5 30.2 28.4 29.2 29.8 30.9 31.4 26.3 31.2 30.6 29.  25.4 24.3\n",
            "  33.3 31.3 32.4 26.3 30.  28.6 30.6 28.6 27.8 28.1 26.5 29.5 34.1 31.8\n",
            "  34.2 32.3 32.5 32.5 32.9 30.3 31.  28.6 31.1 31.8 30.8 29.2 29.2 24.9\n",
            "  24.5 27.1 26.5 22.9 21.1 24.8 22.9 27.8 27.7 29.1 28.4 28.9 27.6 26.9\n",
            "  32.8 33.  33.4 31.4 30.9 32.6 32.4 32.1 33.7 33.6 33.4 25.5 26.3 28.8\n",
            "  26.8 30.  30.1 26.5 27.5 31.2 30.7 28.  27.3]]\n",
            "\n",
            "MSE: 27.463164556962028\n"
          ]
        },
        {
          "output_type": "display_data",
          "data": {
            "text/plain": [
              "<Figure size 640x480 with 1 Axes>"
            ],
            "image/png": "[encoded data removed]"
          },
          "metadata": {}
        }
      ]
    },
    {
      "cell_type": "code",
      "source": [
        "msle = MSLE()\n",
        "msle.fit(X_train, y_train)\n",
        "prediction = msle.predict(X_test)\n",
        "\n",
        "print(y_test.values)\n",
        "print()\n",
        "print(prediction)\n",
        "print()\n",
        "\n",
        "mse = mean_squared_error(y_test, prediction)\n",
        "print(\"MSE: {}\".format(mse))\n",
        "\n",
        "prediction_solution(y_test, prediction, X_test)"
      ],
      "metadata": {
        "colab": {
          "base_uri": "https://localhost:8080/",
          "height": 787
        },
        "id": "ueKe2qDIonJR",
        "outputId": "9b2adbdd-6492-4a15-b796-6e78805ede6c"
      },
      "execution_count": 18,
      "outputs": [
        {
          "output_type": "stream",
          "name": "stderr",
          "text": [
            "/usr/local/lib/python3.10/dist-packages/numpy/core/fromnumeric.py:3472: FutureWarning: In a future version, DataFrame.mean(axis=None) will return a scalar mean over the entire DataFrame. To retain the old behavior, use 'frame.mean(axis=0)' or just 'frame.mean()'\n",
            "  return mean(axis=axis, dtype=dtype, out=out, **kwargs)\n",
            "WARNING:matplotlib.legend:No artists with labels found to put in legend.  Note that artists whose label start with an underscore are ignored when legend() is called with no argument.\n"
          ]
        },
        {
          "output_type": "stream",
          "name": "stdout",
          "text": [
            "[[24.3 19.1 34.3 29.8 31.3 37.  32.2 46.6 27.9 40.8 44.3 43.4 36.4 30.\n",
            "  44.6 33.8 29.8 32.7 23.7 35.  32.4 27.2 26.6 25.8 23.5 30.  39.1 39.\n",
            "  35.1 32.3 37.  37.7 34.1 34.7 34.4 29.9 33.  33.7 32.4 32.9 31.6 28.1\n",
            "  30.7 25.4 24.2 22.4 26.6 20.2 17.6 28.  27.  34.  31.  29.  27.  24.\n",
            "  36.  37.  31.  38.  36.  36.  36.  34.  38.  32.  38.  25.  38.  26.\n",
            "  22.  32.  36.  27.  27.  44.  32.  28.  31. ]]\n",
            "\n",
            "[[24.1 21.7 24.5 24.8 24.8 24.8 24.9 24.9 24.1 24.9 24.6 24.6 23.3 24.5\n",
            "  24.9 24.9 24.6 22.3 26.  24.5 24.9 24.5 24.5 24.5 22.1 24.5 25.3 24.6\n",
            "  25.3 25.3 25.3 25.3 25.3 24.6 24.6 24.6 24.9 25.2 25.2 25.2 25.2 24.8\n",
            "  22.4 22.7 22.7 22.  19.6 22.1 22.  24.9 24.9 24.9 24.9 24.9 24.9 24.9\n",
            "  25.3 25.6 25.6 24.9 24.9 25.6 25.6 25.6 25.6 25.6 25.6 22.4 22.4 24.9\n",
            "  22.4 25.5 24.9 24.9 24.9 25.3 24.9 24.9 24.9]]\n",
            "\n",
            "MSE: 84.7425316455696\n"
          ]
        },
        {
          "output_type": "display_data",
          "data": {
            "text/plain": [
              "<Figure size 640x480 with 1 Axes>"
            ],
            "image/png": "[encoded data removed]"
          },
          "metadata": {}
        }
      ]
    },
    {
      "cell_type": "code",
      "source": [
        "mle = MLE()\n",
        "mle.fit(X_train, y_train, 1)\n",
        "prediction = mle.predict(X_test)\n",
        "\n",
        "print(y_test.values)\n",
        "print()\n",
        "print(prediction)\n",
        "print()\n",
        "\n",
        "mse = mean_squared_error(y_test, prediction)\n",
        "print(\"MSE: {}\".format(mse))\n",
        "\n",
        "prediction_solution(y_test, prediction, X_test)"
      ],
      "metadata": {
        "colab": {
          "base_uri": "https://localhost:8080/",
          "height": 787
        },
        "id": "yoSenqM-1ANh",
        "outputId": "88b79150-8669-40a5-e851-d824b2649251"
      },
      "execution_count": 19,
      "outputs": [
        {
          "output_type": "stream",
          "name": "stderr",
          "text": [
            "/usr/local/lib/python3.10/dist-packages/numpy/core/fromnumeric.py:3472: FutureWarning: In a future version, DataFrame.mean(axis=None) will return a scalar mean over the entire DataFrame. To retain the old behavior, use 'frame.mean(axis=0)' or just 'frame.mean()'\n",
            "  return mean(axis=axis, dtype=dtype, out=out, **kwargs)\n",
            "WARNING:matplotlib.legend:No artists with labels found to put in legend.  Note that artists whose label start with an underscore are ignored when legend() is called with no argument.\n"
          ]
        },
        {
          "output_type": "stream",
          "name": "stdout",
          "text": [
            "[[24.3 19.1 34.3 29.8 31.3 37.  32.2 46.6 27.9 40.8 44.3 43.4 36.4 30.\n",
            "  44.6 33.8 29.8 32.7 23.7 35.  32.4 27.2 26.6 25.8 23.5 30.  39.1 39.\n",
            "  35.1 32.3 37.  37.7 34.1 34.7 34.4 29.9 33.  33.7 32.4 32.9 31.6 28.1\n",
            "  30.7 25.4 24.2 22.4 26.6 20.2 17.6 28.  27.  34.  31.  29.  27.  24.\n",
            "  36.  37.  31.  38.  36.  36.  36.  34.  38.  32.  38.  25.  38.  26.\n",
            "  22.  32.  36.  27.  27.  44.  32.  28.  31. ]]\n",
            "\n",
            "[[26.3 22.5 29.3 29.  29.4 29.6 30.1 30.4 26.9 30.3 29.5 28.9 26.3 27.1\n",
            "  31.1 30.3 30.2 25.2 31.4 28.6 30.  28.1 27.8 27.8 24.4 28.5 31.6 29.6\n",
            "  31.7 30.9 31.  31.  31.1 29.1 29.3 28.4 29.9 30.7 30.3 29.6 29.7 27.5\n",
            "  24.7 25.8 25.7 22.8 18.5 23.7 23.  28.1 28.2 28.6 28.5 28.5 27.8 27.8\n",
            "  30.6 31.4 31.5 29.7 29.4 31.  31.2 31.  31.7 31.7 31.6 24.2 24.  28.3\n",
            "  24.2 30.  29.  27.5 28.1 30.  29.2 28.3 28. ]]\n",
            "\n",
            "MSE: 34.330000000000005\n"
          ]
        },
        {
          "output_type": "display_data",
          "data": {
            "text/plain": [
              "<Figure size 640x480 with 1 Axes>"
            ],
            "image/png": "[encoded data removed]"
          },
          "metadata": {}
        }
      ]
    },
    {
      "cell_type": "code",
      "source": [
        "map = MAP()\n",
        "map.fit(X_train, y_train, 1, 1)\n",
        "prediction = map.predict(X_test)\n",
        "\n",
        "print(y_test.values)\n",
        "print()\n",
        "print(prediction)\n",
        "print()\n",
        "\n",
        "mse = mean_squared_error(y_test,prediction)\n",
        "print(\"MSE: {}\".format(mse))\n",
        "\n",
        "prediction_solution(y_test, prediction, X_test)"
      ],
      "metadata": {
        "colab": {
          "base_uri": "https://localhost:8080/",
          "height": 787
        },
        "id": "RPQasp5b3vZT",
        "outputId": "81162fac-5510-4f4a-fef0-a179e7df72d3"
      },
      "execution_count": 20,
      "outputs": [
        {
          "output_type": "stream",
          "name": "stderr",
          "text": [
            "/usr/local/lib/python3.10/dist-packages/numpy/core/fromnumeric.py:3472: FutureWarning: In a future version, DataFrame.mean(axis=None) will return a scalar mean over the entire DataFrame. To retain the old behavior, use 'frame.mean(axis=0)' or just 'frame.mean()'\n",
            "  return mean(axis=axis, dtype=dtype, out=out, **kwargs)\n",
            "WARNING:matplotlib.legend:No artists with labels found to put in legend.  Note that artists whose label start with an underscore are ignored when legend() is called with no argument.\n"
          ]
        },
        {
          "output_type": "stream",
          "name": "stdout",
          "text": [
            "[[24.3 19.1 34.3 29.8 31.3 37.  32.2 46.6 27.9 40.8 44.3 43.4 36.4 30.\n",
            "  44.6 33.8 29.8 32.7 23.7 35.  32.4 27.2 26.6 25.8 23.5 30.  39.1 39.\n",
            "  35.1 32.3 37.  37.7 34.1 34.7 34.4 29.9 33.  33.7 32.4 32.9 31.6 28.1\n",
            "  30.7 25.4 24.2 22.4 26.6 20.2 17.6 28.  27.  34.  31.  29.  27.  24.\n",
            "  36.  37.  31.  38.  36.  36.  36.  34.  38.  32.  38.  25.  38.  26.\n",
            "  22.  32.  36.  27.  27.  44.  32.  28.  31. ]]\n",
            "\n",
            "[[26.4 22.5 29.3 29.1 29.5 29.6 30.1 30.4 26.9 30.3 29.5 29.  26.3 27.2\n",
            "  31.  30.3 30.1 25.2 31.4 28.6 30.  28.1 27.8 27.8 24.3 28.5 31.6 29.5\n",
            "  31.6 30.8 30.9 31.  31.1 29.1 29.2 28.4 29.9 30.7 30.3 29.6 29.7 27.6\n",
            "  24.7 25.8 25.7 22.8 18.5 23.7 23.  28.2 28.2 28.6 28.5 28.5 27.9 27.8\n",
            "  30.6 31.3 31.5 29.7 29.4 31.  31.2 31.  31.7 31.6 31.5 24.1 24.  28.3\n",
            "  24.2 30.  29.  27.6 28.1 30.  29.2 28.3 28.1]]\n",
            "\n",
            "MSE: 34.40949367088608\n"
          ]
        },
        {
          "output_type": "display_data",
          "data": {
            "text/plain": [
              "<Figure size 640x480 with 1 Axes>"
            ],
            "image/png": "[encoded data removed]"
          },
          "metadata": {}
        }
      ]
    }
  ]
}